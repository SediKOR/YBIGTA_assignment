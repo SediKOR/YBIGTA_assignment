{
  "cells": [
    {
      "cell_type": "markdown",
      "metadata": {
        "id": "view-in-github",
        "colab_type": "text"
      },
      "source": [
        "<a href=\"https://colab.research.google.com/github/SediKOR/Ybigta_assignment/blob/main/%ED%9A%8C%EA%B7%80%EB%B6%84%EC%84%9D_%EC%9D%B4%EC%84%B8%EC%A7%84.ipynb\" target=\"_parent\"><img src=\"https://colab.research.google.com/assets/colab-badge.svg\" alt=\"Open In Colab\"/></a>"
      ]
    },
    {
      "cell_type": "markdown",
      "metadata": {
        "id": "gEZaVLh-zKE3"
      },
      "source": [
        "# 과제\n",
        "\n",
        "- 'Student_Performance.csv'를 이용해 다중선형회귀분석을 진행하세요!\n"
      ]
    },
    {
      "cell_type": "code",
      "source": [
        "from google.colab import drive\n",
        "drive.mount('/content/drive')"
      ],
      "metadata": {
        "colab": {
          "base_uri": "https://localhost:8080/"
        },
        "id": "uZ_47rbGzLKS",
        "outputId": "e8d95c91-4e3c-493f-f9c8-97a590b573e1"
      },
      "execution_count": 2,
      "outputs": [
        {
          "output_type": "stream",
          "name": "stdout",
          "text": [
            "Mounted at /content/drive\n"
          ]
        }
      ]
    },
    {
      "cell_type": "code",
      "execution_count": 3,
      "metadata": {
        "id": "y_XB3Kz4zKEt"
      },
      "outputs": [],
      "source": [
        "import numpy as np\n",
        "import pandas as pd\n",
        "import matplotlib.pyplot as plt"
      ]
    },
    {
      "cell_type": "code",
      "execution_count": 4,
      "metadata": {
        "id": "cqlME7eGzKE3",
        "outputId": "582e0fd0-b0d3-44cb-f4f8-a82790b0b83c",
        "colab": {
          "base_uri": "https://localhost:8080/",
          "height": 206
        }
      },
      "outputs": [
        {
          "output_type": "execute_result",
          "data": {
            "text/plain": [
              "   Study_Hours  Prev_Scores  Sleep_Hours  Sample_Practice    PI  \\\n",
              "0            7           99            9                1  91.0   \n",
              "1            4           82            4                2  65.0   \n",
              "2            8           51            7                2  45.0   \n",
              "3            5           52            5                2  36.0   \n",
              "4            7           75            8                5  66.0   \n",
              "\n",
              "   Extracurriculars  \n",
              "0                 1  \n",
              "1                 0  \n",
              "2                 1  \n",
              "3                 1  \n",
              "4                 0  "
            ],
            "text/html": [
              "\n",
              "\n",
              "  <div id=\"df-a1287425-b9db-47dc-98c6-320bb36b1430\">\n",
              "    <div class=\"colab-df-container\">\n",
              "      <div>\n",
              "<style scoped>\n",
              "    .dataframe tbody tr th:only-of-type {\n",
              "        vertical-align: middle;\n",
              "    }\n",
              "\n",
              "    .dataframe tbody tr th {\n",
              "        vertical-align: top;\n",
              "    }\n",
              "\n",
              "    .dataframe thead th {\n",
              "        text-align: right;\n",
              "    }\n",
              "</style>\n",
              "<table border=\"1\" class=\"dataframe\">\n",
              "  <thead>\n",
              "    <tr style=\"text-align: right;\">\n",
              "      <th></th>\n",
              "      <th>Study_Hours</th>\n",
              "      <th>Prev_Scores</th>\n",
              "      <th>Sleep_Hours</th>\n",
              "      <th>Sample_Practice</th>\n",
              "      <th>PI</th>\n",
              "      <th>Extracurriculars</th>\n",
              "    </tr>\n",
              "  </thead>\n",
              "  <tbody>\n",
              "    <tr>\n",
              "      <th>0</th>\n",
              "      <td>7</td>\n",
              "      <td>99</td>\n",
              "      <td>9</td>\n",
              "      <td>1</td>\n",
              "      <td>91.0</td>\n",
              "      <td>1</td>\n",
              "    </tr>\n",
              "    <tr>\n",
              "      <th>1</th>\n",
              "      <td>4</td>\n",
              "      <td>82</td>\n",
              "      <td>4</td>\n",
              "      <td>2</td>\n",
              "      <td>65.0</td>\n",
              "      <td>0</td>\n",
              "    </tr>\n",
              "    <tr>\n",
              "      <th>2</th>\n",
              "      <td>8</td>\n",
              "      <td>51</td>\n",
              "      <td>7</td>\n",
              "      <td>2</td>\n",
              "      <td>45.0</td>\n",
              "      <td>1</td>\n",
              "    </tr>\n",
              "    <tr>\n",
              "      <th>3</th>\n",
              "      <td>5</td>\n",
              "      <td>52</td>\n",
              "      <td>5</td>\n",
              "      <td>2</td>\n",
              "      <td>36.0</td>\n",
              "      <td>1</td>\n",
              "    </tr>\n",
              "    <tr>\n",
              "      <th>4</th>\n",
              "      <td>7</td>\n",
              "      <td>75</td>\n",
              "      <td>8</td>\n",
              "      <td>5</td>\n",
              "      <td>66.0</td>\n",
              "      <td>0</td>\n",
              "    </tr>\n",
              "  </tbody>\n",
              "</table>\n",
              "</div>\n",
              "      <button class=\"colab-df-convert\" onclick=\"convertToInteractive('df-a1287425-b9db-47dc-98c6-320bb36b1430')\"\n",
              "              title=\"Convert this dataframe to an interactive table.\"\n",
              "              style=\"display:none;\">\n",
              "\n",
              "  <svg xmlns=\"http://www.w3.org/2000/svg\" height=\"24px\"viewBox=\"0 0 24 24\"\n",
              "       width=\"24px\">\n",
              "    <path d=\"M0 0h24v24H0V0z\" fill=\"none\"/>\n",
              "    <path d=\"M18.56 5.44l.94 2.06.94-2.06 2.06-.94-2.06-.94-.94-2.06-.94 2.06-2.06.94zm-11 1L8.5 8.5l.94-2.06 2.06-.94-2.06-.94L8.5 2.5l-.94 2.06-2.06.94zm10 10l.94 2.06.94-2.06 2.06-.94-2.06-.94-.94-2.06-.94 2.06-2.06.94z\"/><path d=\"M17.41 7.96l-1.37-1.37c-.4-.4-.92-.59-1.43-.59-.52 0-1.04.2-1.43.59L10.3 9.45l-7.72 7.72c-.78.78-.78 2.05 0 2.83L4 21.41c.39.39.9.59 1.41.59.51 0 1.02-.2 1.41-.59l7.78-7.78 2.81-2.81c.8-.78.8-2.07 0-2.86zM5.41 20L4 18.59l7.72-7.72 1.47 1.35L5.41 20z\"/>\n",
              "  </svg>\n",
              "      </button>\n",
              "\n",
              "\n",
              "\n",
              "    <div id=\"df-dbeaa30c-a9c7-48d9-bddd-303585c3766d\">\n",
              "      <button class=\"colab-df-quickchart\" onclick=\"quickchart('df-dbeaa30c-a9c7-48d9-bddd-303585c3766d')\"\n",
              "              title=\"Suggest charts.\"\n",
              "              style=\"display:none;\">\n",
              "\n",
              "<svg xmlns=\"http://www.w3.org/2000/svg\" height=\"24px\"viewBox=\"0 0 24 24\"\n",
              "     width=\"24px\">\n",
              "    <g>\n",
              "        <path d=\"M19 3H5c-1.1 0-2 .9-2 2v14c0 1.1.9 2 2 2h14c1.1 0 2-.9 2-2V5c0-1.1-.9-2-2-2zM9 17H7v-7h2v7zm4 0h-2V7h2v10zm4 0h-2v-4h2v4z\"/>\n",
              "    </g>\n",
              "</svg>\n",
              "      </button>\n",
              "    </div>\n",
              "\n",
              "<style>\n",
              "  .colab-df-quickchart {\n",
              "    background-color: #E8F0FE;\n",
              "    border: none;\n",
              "    border-radius: 50%;\n",
              "    cursor: pointer;\n",
              "    display: none;\n",
              "    fill: #1967D2;\n",
              "    height: 32px;\n",
              "    padding: 0 0 0 0;\n",
              "    width: 32px;\n",
              "  }\n",
              "\n",
              "  .colab-df-quickchart:hover {\n",
              "    background-color: #E2EBFA;\n",
              "    box-shadow: 0px 1px 2px rgba(60, 64, 67, 0.3), 0px 1px 3px 1px rgba(60, 64, 67, 0.15);\n",
              "    fill: #174EA6;\n",
              "  }\n",
              "\n",
              "  [theme=dark] .colab-df-quickchart {\n",
              "    background-color: #3B4455;\n",
              "    fill: #D2E3FC;\n",
              "  }\n",
              "\n",
              "  [theme=dark] .colab-df-quickchart:hover {\n",
              "    background-color: #434B5C;\n",
              "    box-shadow: 0px 1px 3px 1px rgba(0, 0, 0, 0.15);\n",
              "    filter: drop-shadow(0px 1px 2px rgba(0, 0, 0, 0.3));\n",
              "    fill: #FFFFFF;\n",
              "  }\n",
              "</style>\n",
              "\n",
              "    <script>\n",
              "      async function quickchart(key) {\n",
              "        const containerElement = document.querySelector('#' + key);\n",
              "        const charts = await google.colab.kernel.invokeFunction(\n",
              "            'suggestCharts', [key], {});\n",
              "      }\n",
              "    </script>\n",
              "\n",
              "      <script>\n",
              "\n",
              "function displayQuickchartButton(domScope) {\n",
              "  let quickchartButtonEl =\n",
              "    domScope.querySelector('#df-dbeaa30c-a9c7-48d9-bddd-303585c3766d button.colab-df-quickchart');\n",
              "  quickchartButtonEl.style.display =\n",
              "    google.colab.kernel.accessAllowed ? 'block' : 'none';\n",
              "}\n",
              "\n",
              "        displayQuickchartButton(document);\n",
              "      </script>\n",
              "      <style>\n",
              "    .colab-df-container {\n",
              "      display:flex;\n",
              "      flex-wrap:wrap;\n",
              "      gap: 12px;\n",
              "    }\n",
              "\n",
              "    .colab-df-convert {\n",
              "      background-color: #E8F0FE;\n",
              "      border: none;\n",
              "      border-radius: 50%;\n",
              "      cursor: pointer;\n",
              "      display: none;\n",
              "      fill: #1967D2;\n",
              "      height: 32px;\n",
              "      padding: 0 0 0 0;\n",
              "      width: 32px;\n",
              "    }\n",
              "\n",
              "    .colab-df-convert:hover {\n",
              "      background-color: #E2EBFA;\n",
              "      box-shadow: 0px 1px 2px rgba(60, 64, 67, 0.3), 0px 1px 3px 1px rgba(60, 64, 67, 0.15);\n",
              "      fill: #174EA6;\n",
              "    }\n",
              "\n",
              "    [theme=dark] .colab-df-convert {\n",
              "      background-color: #3B4455;\n",
              "      fill: #D2E3FC;\n",
              "    }\n",
              "\n",
              "    [theme=dark] .colab-df-convert:hover {\n",
              "      background-color: #434B5C;\n",
              "      box-shadow: 0px 1px 3px 1px rgba(0, 0, 0, 0.15);\n",
              "      filter: drop-shadow(0px 1px 2px rgba(0, 0, 0, 0.3));\n",
              "      fill: #FFFFFF;\n",
              "    }\n",
              "  </style>\n",
              "\n",
              "      <script>\n",
              "        const buttonEl =\n",
              "          document.querySelector('#df-a1287425-b9db-47dc-98c6-320bb36b1430 button.colab-df-convert');\n",
              "        buttonEl.style.display =\n",
              "          google.colab.kernel.accessAllowed ? 'block' : 'none';\n",
              "\n",
              "        async function convertToInteractive(key) {\n",
              "          const element = document.querySelector('#df-a1287425-b9db-47dc-98c6-320bb36b1430');\n",
              "          const dataTable =\n",
              "            await google.colab.kernel.invokeFunction('convertToInteractive',\n",
              "                                                     [key], {});\n",
              "          if (!dataTable) return;\n",
              "\n",
              "          const docLinkHtml = 'Like what you see? Visit the ' +\n",
              "            '<a target=\"_blank\" href=https://colab.research.google.com/notebooks/data_table.ipynb>data table notebook</a>'\n",
              "            + ' to learn more about interactive tables.';\n",
              "          element.innerHTML = '';\n",
              "          dataTable['output_type'] = 'display_data';\n",
              "          await google.colab.output.renderOutput(dataTable, element);\n",
              "          const docLink = document.createElement('div');\n",
              "          docLink.innerHTML = docLinkHtml;\n",
              "          element.appendChild(docLink);\n",
              "        }\n",
              "      </script>\n",
              "    </div>\n",
              "  </div>\n"
            ]
          },
          "metadata": {},
          "execution_count": 4
        }
      ],
      "source": [
        "# 데이터 불러오기\n",
        "data = pd.read_csv('drive/MyDrive/Student_Performance.csv', index_col = 0)\n",
        "data.head()"
      ]
    },
    {
      "cell_type": "markdown",
      "metadata": {
        "id": "My0X24udzKE4"
      },
      "source": [
        "2.1. 반응변수(Y)를 PI로 하고, 설명변수(X)들을 그 외 모든 변수로 설정한 다중선형회귀분석을 진행하고 summary를 print하세요."
      ]
    },
    {
      "cell_type": "code",
      "execution_count": 18,
      "metadata": {
        "id": "im_Rk00IzKE4",
        "colab": {
          "base_uri": "https://localhost:8080/"
        },
        "outputId": "2113ebfa-1d4a-4ec6-d911-394498f1820d"
      },
      "outputs": [
        {
          "output_type": "stream",
          "name": "stdout",
          "text": [
            "                            OLS Regression Results                            \n",
            "==============================================================================\n",
            "Dep. Variable:                     PI   R-squared:                       0.989\n",
            "Model:                            OLS   Adj. R-squared:                  0.989\n",
            "Method:                 Least Squares   F-statistic:                 1.757e+05\n",
            "Date:                Sat, 15 Jul 2023   Prob (F-statistic):               0.00\n",
            "Time:                        06:19:11   Log-Likelihood:                -21307.\n",
            "No. Observations:               10000   AIC:                         4.263e+04\n",
            "Df Residuals:                    9994   BIC:                         4.267e+04\n",
            "Df Model:                           5                                         \n",
            "Covariance Type:            nonrobust                                         \n",
            "====================================================================================\n",
            "                       coef    std err          t      P>|t|      [0.025      0.975]\n",
            "------------------------------------------------------------------------------------\n",
            "const              -34.0756      0.127   -268.010      0.000     -34.325     -33.826\n",
            "Study_Hours          2.8530      0.008    362.353      0.000       2.838       2.868\n",
            "Prev_Scores          1.0184      0.001    866.450      0.000       1.016       1.021\n",
            "Sleep_Hours          0.4806      0.012     39.972      0.000       0.457       0.504\n",
            "Sample_Practice      0.1938      0.007     27.257      0.000       0.180       0.208\n",
            "Extracurriculars     0.6129      0.041     15.029      0.000       0.533       0.693\n",
            "==============================================================================\n",
            "Omnibus:                        3.851   Durbin-Watson:                   2.001\n",
            "Prob(Omnibus):                  0.146   Jarque-Bera (JB):                4.036\n",
            "Skew:                           0.013   Prob(JB):                        0.133\n",
            "Kurtosis:                       3.095   Cond. No.                         452.\n",
            "==============================================================================\n",
            "\n",
            "Notes:\n",
            "[1] Standard Errors assume that the covariance matrix of the errors is correctly specified.\n"
          ]
        }
      ],
      "source": [
        "import statsmodels.api as sm\n",
        "from statsmodels.formula.api import ols\n",
        "\n",
        "#1 - formula 명시하지 않는 방법\n",
        "Y = data.iloc[:, -2]\n",
        "X = data.iloc[:, data.columns != 'PI']\n",
        "X = sm.add_constant(X)\n",
        "\n",
        "model = sm.OLS(Y, X)\n",
        "res = model.fit()\n",
        "\n",
        "print(res.summary())\n"
      ]
    },
    {
      "cell_type": "markdown",
      "metadata": {
        "id": "M9AXlkJbzKE5"
      },
      "source": [
        "2.2. 반응변수를 PI로 하고, 설명변수들을 Study_Hours로 설정한 단순선형회귀분석을 진행하고 summary를 print하세요."
      ]
    },
    {
      "cell_type": "code",
      "execution_count": 17,
      "metadata": {
        "id": "113j65rIzKE5",
        "colab": {
          "base_uri": "https://localhost:8080/"
        },
        "outputId": "eed552f3-93b0-4e31-f741-d9613a3b1385"
      },
      "outputs": [
        {
          "output_type": "stream",
          "name": "stdout",
          "text": [
            "                            OLS Regression Results                            \n",
            "==============================================================================\n",
            "Dep. Variable:                     PI   R-squared:                       0.989\n",
            "Model:                            OLS   Adj. R-squared:                  0.989\n",
            "Method:                 Least Squares   F-statistic:                 1.757e+05\n",
            "Date:                Sat, 15 Jul 2023   Prob (F-statistic):               0.00\n",
            "Time:                        06:19:08   Log-Likelihood:                -21307.\n",
            "No. Observations:               10000   AIC:                         4.263e+04\n",
            "Df Residuals:                    9994   BIC:                         4.267e+04\n",
            "Df Model:                           5                                         \n",
            "Covariance Type:            nonrobust                                         \n",
            "====================================================================================\n",
            "                       coef    std err          t      P>|t|      [0.025      0.975]\n",
            "------------------------------------------------------------------------------------\n",
            "const              -34.0756      0.127   -268.010      0.000     -34.325     -33.826\n",
            "Study_Hours          2.8530      0.008    362.353      0.000       2.838       2.868\n",
            "Prev_Scores          1.0184      0.001    866.450      0.000       1.016       1.021\n",
            "Sleep_Hours          0.4806      0.012     39.972      0.000       0.457       0.504\n",
            "Sample_Practice      0.1938      0.007     27.257      0.000       0.180       0.208\n",
            "Extracurriculars     0.6129      0.041     15.029      0.000       0.533       0.693\n",
            "==============================================================================\n",
            "Omnibus:                        3.851   Durbin-Watson:                   2.001\n",
            "Prob(Omnibus):                  0.146   Jarque-Bera (JB):                4.036\n",
            "Skew:                           0.013   Prob(JB):                        0.133\n",
            "Kurtosis:                       3.095   Cond. No.                         452.\n",
            "==============================================================================\n",
            "\n",
            "Notes:\n",
            "[1] Standard Errors assume that the covariance matrix of the errors is correctly specified.\n"
          ]
        }
      ],
      "source": [
        "import statsmodels.api as sm\n",
        "from statsmodels.formula.api import ols\n",
        "\n",
        "#1 - formula 명시하지 않는 방법\n",
        "Y_2 = data.iloc[:, -2]\n",
        "X_2 = data.iloc[:, data.columns == 'Study_Hours']\n",
        "X_2 = sm.add_constant(X)\n",
        "\n",
        "model_2 = sm.OLS(Y_, X_)\n",
        "res_2 = model_2.fit()\n",
        "\n",
        "print(res_.summary())\n"
      ]
    },
    {
      "cell_type": "markdown",
      "metadata": {
        "id": "O63GBv95zKE5"
      },
      "source": [
        "2.3. (2.1)과 (2.2)의 분석을 비교하고 Study_Hours와 PI의 관계를 짧게, 자유롭게 설명해보세요."
      ]
    },
    {
      "cell_type": "markdown",
      "metadata": {
        "id": "PqRv9q-RzKE5"
      },
      "source": [
        "설명: 첫번째 회귀분석 결과의 R-squared는 0.989로 매우 높은 값을 가지고 있다. 이는 독립변수가 종속변수를 잘 설명했다고 할 수 있다. coef를 보면, Study_Hours가 증가할수록 PI도 증가한다는 것을 알 수 있으며 t통계량을 통해 유의미함이 증명되었다. 두번째 회귀분석 결과의 R-squared는 0.140으로 낮은 값을 가지고 있다. 이는 Study_Hours만 가지고 PI의 변동을 설명하기에 한계가 존재한다는 뜻이다. coef는 2.7731로, Study_Hours가 증가할수록 PI도 증가하며 t통계량을 통해 유의미함이 증명되었으나 Study_Hours만 가지고는 판단할 수 없다. 따라서 Study_Hours와 다른 설명변수들을 고려해야 PI를 판단할 수 있을 것이다."
      ]
    }
  ],
  "metadata": {
    "kernelspec": {
      "display_name": "ybenv",
      "language": "python",
      "name": "python3"
    },
    "language_info": {
      "codemirror_mode": {
        "name": "ipython",
        "version": 3
      },
      "file_extension": ".py",
      "mimetype": "text/x-python",
      "name": "python",
      "nbconvert_exporter": "python",
      "pygments_lexer": "ipython3",
      "version": "3.9.16"
    },
    "orig_nbformat": 4,
    "colab": {
      "provenance": [],
      "include_colab_link": true
    }
  },
  "nbformat": 4,
  "nbformat_minor": 0
}